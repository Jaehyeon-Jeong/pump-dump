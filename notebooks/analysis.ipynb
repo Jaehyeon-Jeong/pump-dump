import ccxt
import pandas as pd
import matplotlib.pyplot as plt
from pycoingecko import CoinGeckoAPI

cg = CoinGeckoAPI()
binance = ccxt.binanceus()

#market cap From CoinGecko
def get_market_caps(vs='usd', pages=10): # CoinGecko's free API has limit rates
    frames = []
    for page in range(1, pages + 1):
        data = cg.get_coins_markets(vs_currency=vs,
                                    order='market_cap_desc',
                                    per_page=250,
                                    page=page,
                                    sparkline=False)
        if not data:
            break
        frames.append(pd.DataFrame(data))
    cols = ['id', 'symbol', 'name', 'market_cap', 'current_price']
    df = pd.concat(frames, ignore_index=True)[cols]
    df['symbol_upper'] = df['symbol'].str.upper()
    return df

market_caps = get_market_caps()

def classify_market_cap(market_cap):
    if market_cap >= 10_000_000_000:
        return 'Top'
    elif 1_000_000_000 <= market_cap < 10_000_000_000:
        return 'Mid'
    else:
        return 'Micro'

market_caps['cap_type'] = market_caps['market_cap'].apply(classify_market_cap)

def get_zscore_threshold(cap_type):
    if cap_type == 'Top':
        return 4.0
    elif cap_type == 'Mid':
        return 3.5
    else:
        return 3.0
    
def is_micro(cap_type):
    return cap_type == 'Micro'

markets = binance.load_markets()
symbols = [symbol for symbol in markets if symbol.endswith('/USDT')]

potential_coins = []

for symbol in symbols[:10]:  
    try:
        bars = binance.fetch_ohlcv(symbol, timeframe='5m', limit=288)
        if not bars:
            continue
        
        df = pd.DataFrame(bars, columns=['Time', 'Open', 'Highest', 'Lowest', 'Closing', 'Volumn'])
        df['Time'] = pd.to_datetime(df['Time'], unit='ms')
        df['Symbol'] = symbol

        # 1. Unusual price changes (>30% candle)
        df['price_change'] = df['Closing'].pct_change()
        df['unusual_price'] = df['price_change'] > 0.3

        # 2. Unusual volume spike using Z-score
        df['rolling_vol_mean'] = df['Volumn'].rolling(window=30, min_periods=1).mean()
        df['rolling_vol_std'] = df['Volumn'].rolling(window=30, min_periods=1).std()
        df['z_score_vol'] = (df['Volumn'] - df['rolling_vol_mean']) / df['rolling_vol_std']
        
        base_symbol = symbol.split('/')[0]
        
        market_info = market_caps[
            (market_caps['symbol_upper'] == base_symbol) |
            (market_caps['name'].str.upper() == base_symbol)
        ]
        
        if not market_info.empty:
            cap_type = market_info.iloc[0]['cap_type']
            zscore_threshold = get_zscore_threshold(cap_type)
            micro_flag = is_micro(cap_type)
        else:
            print(f"Warning: {symbol} not found in market cap database.")
            cap_type = 'Unknown'
            zscore_threshold = 3.5
            micro_flag = False
            
        
        # DETECTION START 
        order_book = binance.fetch_order_book(symbol)
        bid_depth = sum([price * amount for price, amount in order_book['bids'][:10]])
        ask_depth = sum([price * amount for price, amount in order_book['asks'][:10]])
        best_bid = order_book['bids'][0][0] if order_book['bids'] else None
        best_ask = order_book['asks'][0][0] if order_book['asks'] else None
        spread = (best_ask - best_bid) / best_bid if best_bid and best_ask else None

        low_depth_threshold = 10_000
        wide_spread_threshold = 0.02

        suspicious = False
        
        if df['unusual_price'].any():
            print(f" Unusual PRICE detected: {symbol}")
            suspicious = True

        if (df['z_score_vol'] > zscore_threshold).any():
            if micro_flag:
                print(f" Unusual VOLUME (MICRO CAP) detected: {symbol}")
            else:
                print(f" Unusual VOLUME detected: {symbol}")
            suspicious = True

        if bid_depth < low_depth_threshold or (spread and spread > wide_spread_threshold):
            print(f"⚠ LIQUIDITY TRAP detected: {symbol}")
            suspicious = True

        if suspicious:
            potential_coins.append(symbol)
        else:
            print(f"🔍 Scanning {symbol}... Nothing suspicious yet.")

    except Exception as e:
        print(f" Error processing {symbol}: {e}")

print("\n Potential Pump & Dump Candidates:")
print(potential_coins)
